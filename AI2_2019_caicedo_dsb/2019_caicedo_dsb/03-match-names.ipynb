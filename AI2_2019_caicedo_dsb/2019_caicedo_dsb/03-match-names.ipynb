{
 "cells": [
  {
   "cell_type": "code",
   "execution_count": 1,
   "metadata": {},
   "outputs": [],
   "source": [
    "%matplotlib inline"
   ]
  },
  {
   "cell_type": "code",
   "execution_count": 2,
   "metadata": {},
   "outputs": [
    {
     "name": "stderr",
     "output_type": "stream",
     "text": [
      "/usr/local/lib/python3.6/importlib/_bootstrap.py:219: RuntimeWarning: numpy.dtype size changed, may indicate binary incompatibility. Expected 96, got 88\n",
      "  return f(*args, **kwds)\n"
     ]
    }
   ],
   "source": [
    "import numpy as np\n",
    "import skimage.io\n",
    "import matplotlib.pyplot as plt\n",
    "import os\n",
    "from tqdm import tqdm\n",
    "import pandas as pd\n",
    "\n",
    "out_dir = \"/storage/data/DSB2018/phase-2-imgs/\""
   ]
  },
  {
   "cell_type": "markdown",
   "metadata": {},
   "source": [
    "# Load annotations in Kyle's set"
   ]
  },
  {
   "cell_type": "code",
   "execution_count": 3,
   "metadata": {},
   "outputs": [
    {
     "name": "stderr",
     "output_type": "stream",
     "text": [
      "100%|██████████| 106/106 [00:03<00:00, 32.00it/s]\n"
     ]
    }
   ],
   "source": [
    "kyle_img_dir = \"/storage/data/DSB2018/Kyle_stage2/\"\n",
    "kyle_imgs = []\n",
    "\n",
    "for imn in tqdm(os.listdir(kyle_img_dir)):\n",
    "    data = skimage.io.imread_collection(kyle_img_dir + imn + \"/masks/*.png\")\n",
    "    labels = np.zeros(data[0].shape, dtype=np.int16)\n",
    "    for i in range(len(data)):\n",
    "        labels[data[i] > 0] = i + 1\n",
    "    kyle_imgs.append({\"key\":imn, \"im\":labels})"
   ]
  },
  {
   "cell_type": "markdown",
   "metadata": {},
   "source": [
    "# Load ground truth in Allen's set"
   ]
  },
  {
   "cell_type": "code",
   "execution_count": 4,
   "metadata": {},
   "outputs": [
    {
     "name": "stderr",
     "output_type": "stream",
     "text": [
      "100%|██████████| 106/106 [00:00<00:00, 770.66it/s]\n"
     ]
    }
   ],
   "source": [
    "allen_img_dir = \"/storage/data/DSB2018/phase-2-gt/\"\n",
    "allen_imgs = []\n",
    "\n",
    "for imn in tqdm(os.listdir(allen_img_dir)):\n",
    "    labels = skimage.io.imread(allen_img_dir + imn)\n",
    "    allen_imgs.append({\"key\":imn.replace(\".png\", \"\"), \"im\":labels})"
   ]
  },
  {
   "cell_type": "markdown",
   "metadata": {},
   "source": [
    "# Match annotations using L1-pixelwise distance"
   ]
  },
  {
   "cell_type": "code",
   "execution_count": 5,
   "metadata": {},
   "outputs": [
    {
     "name": "stderr",
     "output_type": "stream",
     "text": [
      "100%|██████████| 106/106 [00:06<00:00, 16.88it/s]\n"
     ]
    }
   ],
   "source": [
    "sim_matrix = np.zeros((len(kyle_imgs), len(allen_imgs)))\n",
    "for i in tqdm(range(len(kyle_imgs))):\n",
    "    for j in range(len(allen_imgs)):\n",
    "        A = (kyle_imgs[i][\"im\"] > 0).astype(np.int8)\n",
    "        B = (allen_imgs[j][\"im\"] > 0).astype(np.int8)\n",
    "        if kyle_imgs[i][\"im\"].shape == allen_imgs[j][\"im\"].shape:\n",
    "            sim_matrix[i,j] = np.sum(np.abs(A - B))\n",
    "        else:\n",
    "            sim_matrix[i,j] = np.sum(A) + np.sum(B)\n",
    "    "
   ]
  },
  {
   "cell_type": "markdown",
   "metadata": {},
   "source": [
    "# Extract the top matches and check no "
   ]
  },
  {
   "cell_type": "code",
   "execution_count": 6,
   "metadata": {},
   "outputs": [],
   "source": [
    "matches = np.argsort(sim_matrix, axis=1)[:,0]\n",
    "assert len(np.unique(matches)) == len(kyle_imgs)"
   ]
  },
  {
   "cell_type": "code",
   "execution_count": 7,
   "metadata": {},
   "outputs": [],
   "source": [
    "matched_names = []\n",
    "for i in range(len(matches)):\n",
    "    matched_names.append({\n",
    "        \"kyle_id\": i,\n",
    "        \"kyle\":kyle_imgs[i][\"key\"], \n",
    "        \"allen_id\": matches[i],\n",
    "        \"allen\":allen_imgs[matches[i]][\"key\"]}\n",
    "    )"
   ]
  },
  {
   "cell_type": "code",
   "execution_count": 8,
   "metadata": {},
   "outputs": [
    {
     "data": {
      "text/plain": [
       "<matplotlib.image.AxesImage at 0x7f3bacacf160>"
      ]
     },
     "execution_count": 8,
     "metadata": {},
     "output_type": "execute_result"
    },
    {
     "data": {
      "image/png": "[encoded data removed]",
      "text/plain": [
       "<matplotlib.figure.Figure at 0x7f3badb7e2e8>"
      ]
     },
     "metadata": {},
     "output_type": "display_data"
    },
    {
     "data": {
      "image/png": "[encoded data removed]",
      "text/plain": [
       "<matplotlib.figure.Figure at 0x7f3badba8400>"
      ]
     },
     "metadata": {},
     "output_type": "display_data"
    }
   ],
   "source": [
    "m = matched_names[0]\n",
    "plt.figure()\n",
    "plt.imshow(kyle_imgs[m[\"kyle_id\"]][\"im\"] > 0)\n",
    "plt.figure()\n",
    "plt.imshow(allen_imgs[m[\"allen_id\"]][\"im\"] > 0)"
   ]
  },
  {
   "cell_type": "code",
   "execution_count": 9,
   "metadata": {},
   "outputs": [],
   "source": [
    "df = pd.DataFrame(data=matched_names)\n",
    "df = df[[\"allen\", \"kyle\"]]\n",
    "df.to_csv(\"/storage/data/DSB2018/metadata/matched_names.csv\", index=False)"
   ]
  },
  {
   "cell_type": "code",
   "execution_count": 10,
   "metadata": {
    "scrolled": false
   },
   "outputs": [
    {
     "name": "stderr",
     "output_type": "stream",
     "text": [
      "106it [00:00, 126.32it/s]\n"
     ]
    }
   ],
   "source": [
    "for d in tqdm(df.iterrows()):\n",
    "    source = os.listdir(kyle_img_dir + d[1][\"kyle\"] + \"/images/\")\n",
    "    if len(source) > 1:\n",
    "        print(\"Problem with:\", d[1][\"kyle\"])\n",
    "    source = kyle_img_dir + d[1][\"kyle\"] + \"/images/\" + source[0]\n",
    "    destination = out_dir + d[1][\"allen\"] + \".png\"\n",
    "    os.system(\"cp \" + source + \" \" + destination)"
   ]
  },
  {
   "cell_type": "code",
   "execution_count": null,
   "metadata": {},
   "outputs": [],
   "source": []
  }
 ],
 "metadata": {
  "kernelspec": {
   "display_name": "Python 3",
   "language": "python",
   "name": "python3"
  },
  "language_info": {
   "codemirror_mode": {
    "name": "ipython",
    "version": 3
   },
   "file_extension": ".py",
   "mimetype": "text/x-python",
   "name": "python",
   "nbconvert_exporter": "python",
   "pygments_lexer": "ipython3",
   "version": "3.6.4"
  }
 },
 "nbformat": 4,
 "nbformat_minor": 2
}
