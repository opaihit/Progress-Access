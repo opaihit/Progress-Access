{
 "cells": [
  {
   "cell_type": "markdown",
   "metadata": {},
   "source": [
    "# Step 01\n",
    "# Preprocessing input images and annotations"
   ]
  },
  {
   "cell_type": "code",
   "execution_count": 1,
   "metadata": {},
   "outputs": [],
   "source": [
    "%matplotlib inline"
   ]
  },
  {
   "cell_type": "code",
   "execution_count": 2,
   "metadata": {},
   "outputs": [],
   "source": [
    "import os\n",
    "import random\n",
    "\n",
    "import matplotlib.pyplot as plt\n",
    "import numpy as np\n",
    "\n",
    "import pathlib\n",
    "from tqdm import tqdm\n",
    "\n",
    "import skimage.io\n",
    "import skimage.segmentation\n",
    "\n",
    "import utils.dirtools\n",
    "import utils.augmentation\n",
    "from config import config_vars"
   ]
  },
  {
   "cell_type": "markdown",
   "metadata": {},
   "source": [
    "# Configuration"
   ]
  },
  {
   "cell_type": "code",
   "execution_count": 3,
   "metadata": {},
   "outputs": [
    {
     "data": {
      "text/plain": [
       "{'augment_images': False,\n",
       " 'batch_size': 10,\n",
       " 'boundary_boost_factor': 1,\n",
       " 'boundary_labels_dir': '/data1/image-segmentation/dsb_eval/boundary_labels/',\n",
       " 'boundary_size': 2,\n",
       " 'cell_min_size': 16,\n",
       " 'create_split_files': False,\n",
       " 'crop_size': 256,\n",
       " 'elastic_augmentations': 10,\n",
       " 'elastic_distortion': 5,\n",
       " 'elastic_points': 16,\n",
       " 'epochs': 15,\n",
       " 'learning_rate': 0.0001,\n",
       " 'max_training_images': 0,\n",
       " 'min_nucleus_size': 10,\n",
       " 'normalized_images_dir': '/data1/image-segmentation/dsb_eval/norm_images/',\n",
       " 'object_dilation': 3,\n",
       " 'path_files_test': '/data1/image-segmentation/dsb_eval/test.txt',\n",
       " 'path_files_training': '/data1/image-segmentation/dsb_eval/training.txt',\n",
       " 'path_files_validation': '/data1/image-segmentation/dsb_eval/validation.txt',\n",
       " 'pixel_depth': 8,\n",
       " 'raw_annotations_dir': '/data1/image-segmentation/dsb_eval/raw_annotations/',\n",
       " 'raw_images_dir': '/data1/image-segmentation/dsb_eval/raw_images/',\n",
       " 'rescale_labels': True,\n",
       " 'root_directory': '/data1/image-segmentation/dsb_eval/',\n",
       " 'steps_per_epoch': 500,\n",
       " 'training_fraction': 0.5,\n",
       " 'transform_images_to_PNG': True,\n",
       " 'val_batch_size': 10,\n",
       " 'validation_fraction': 0.25}"
      ]
     },
     "execution_count": 3,
     "metadata": {},
     "output_type": "execute_result"
    }
   ],
   "source": [
    "config_vars"
   ]
  },
  {
   "cell_type": "markdown",
   "metadata": {},
   "source": [
    "# Data partitions"
   ]
  },
  {
   "cell_type": "code",
   "execution_count": 4,
   "metadata": {},
   "outputs": [],
   "source": [
    "# Prepare split files\n",
    "\n",
    "if config_vars[\"create_split_files\"]:\n",
    "    file_list = os.listdir(config_vars[\"raw_images_dir\"])\n",
    "\n",
    "    [list_training, list_test, list_validation] = utils.dirtools.create_image_lists(\n",
    "        config_vars[\"raw_images_dir\"],\n",
    "        config_vars[\"training_fraction\"],\n",
    "        config_vars[\"validation_fraction\"]\n",
    "    )\n",
    "\n",
    "    utils.dirtools.write_path_files(config_vars[\"path_files_training\"], list_training)\n",
    "    utils.dirtools.write_path_files(config_vars[\"path_files_test\"], list_test)\n",
    "    utils.dirtools.write_path_files(config_vars[\"path_files_validation\"], list_validation)\n",
    "    \n",
    "data_partitions = utils.dirtools.read_data_partitions(config_vars, load_augmented=False)"
   ]
  },
  {
   "cell_type": "code",
   "execution_count": 5,
   "metadata": {},
   "outputs": [],
   "source": [
    "# Create output directories for transformed data\n",
    "\n",
    "os.makedirs(config_vars[\"normalized_images_dir\"], exist_ok=True)\n",
    "os.makedirs(config_vars[\"boundary_labels_dir\"], exist_ok=True)"
   ]
  },
  {
   "cell_type": "markdown",
   "metadata": {},
   "source": [
    "# Image Preprocessing"
   ]
  },
  {
   "cell_type": "code",
   "execution_count": 6,
   "metadata": {
    "scrolled": false
   },
   "outputs": [],
   "source": [
    "# if config_vars[\"transform_images_to_PNG\"]:\n",
    "    \n",
    "#     filelist = sorted(os.listdir(config_vars[\"raw_images_dir\"]))\n",
    "\n",
    "#     # run over all raw images\n",
    "#     for filename in tqdm(filelist):\n",
    "\n",
    "#         # load image and its annotation\n",
    "#         orig_img = skimage.io.imread(config_vars[\"raw_images_dir\"] + filename)       \n",
    "\n",
    "#         # IMAGE\n",
    "\n",
    "#         # normalize to [0,1]\n",
    "#         percentile = 99.9\n",
    "#         high = np.percentile(orig_img, percentile)\n",
    "#         low = np.percentile(orig_img, 100-percentile)\n",
    "\n",
    "#         img = np.minimum(high, orig_img)\n",
    "#         img = np.maximum(low, img)\n",
    "\n",
    "#         img = (img - low) / (high - low) # gives float64, thus cast to 8 bit later\n",
    "#         img = skimage.img_as_ubyte(img) \n",
    "\n",
    "#         skimage.io.imsave(config_vars[\"normalized_images_dir\"] + filename[:-3] + 'png', img)    \n",
    "# else:\n",
    "#     config_vars[\"normalized_images_dir\"] = config_vars[\"raw_images_dir\"]"
   ]
  },
  {
   "cell_type": "code",
   "execution_count": 7,
   "metadata": {
    "scrolled": false
   },
   "outputs": [],
   "source": [
    "# print(img.dtype, img.shape)\n",
    "# filename = os.listdir(config_vars[\"normalized_images_dir\"])\n",
    "# img = skimage.io.imread(config_vars[\"normalized_images_dir\"] + filename[-1])\n",
    "# plt.figure(figsize=(10,10))\n",
    "# plt.imshow(img)\n",
    "# plt.show()\n",
    "# plt.hist(img.flatten(), bins=100)\n",
    "# plt.show()"
   ]
  },
  {
   "cell_type": "markdown",
   "metadata": {},
   "source": [
    "# Create Output Targets: Three Class Boundary"
   ]
  },
  {
   "cell_type": "code",
   "execution_count": 8,
   "metadata": {
    "scrolled": false
   },
   "outputs": [
    {
     "name": "stderr",
     "output_type": "stream",
     "text": [
      "  0%|          | 0/735 [00:00<?, ?it/s]/home/jccaicedo/.local/lib/python3.6/site-packages/skimage/util/dtype.py:130: UserWarning: Possible precision loss when converting from float64 to uint8\n",
      "  .format(dtypeobj_in, dtypeobj_out))\n",
      "  2%|▏         | 17/735 [00:00<00:13, 54.88it/s]/home/jccaicedo/.local/lib/python3.6/site-packages/skimage/io/_io.py:140: UserWarning: /data1/image-segmentation/dsb_eval/boundary_labels/07761fa39f60dc37022dbbe8d8694595fd5b77ceb2af2a2724768c8e524d6770.png is a low contrast image\n",
      "  warn('%s is a low contrast image' % fname)\n",
      "  4%|▎         | 27/735 [00:00<00:23, 29.77it/s]/home/jccaicedo/.local/lib/python3.6/site-packages/skimage/io/_io.py:140: UserWarning: /data1/image-segmentation/dsb_eval/boundary_labels/0b0d577159f0d6c266f360f7b8dfde46e16fa665138bf577ec3c6f9c70c0cd1e.png is a low contrast image\n",
      "  warn('%s is a low contrast image' % fname)\n",
      " 10%|▉         | 73/735 [00:02<00:19, 34.41it/s]/home/jccaicedo/.local/lib/python3.6/site-packages/skimage/io/_io.py:140: UserWarning: /data1/image-segmentation/dsb_eval/boundary_labels/1a11552569160f0b1ea10bedbd628ce6c14f29edec5092034c2309c556df833e.png is a low contrast image\n",
      "  warn('%s is a low contrast image' % fname)\n",
      " 10%|█         | 77/735 [00:02<00:20, 31.84it/s]/home/jccaicedo/.local/lib/python3.6/site-packages/skimage/io/_io.py:140: UserWarning: /data1/image-segmentation/dsb_eval/boundary_labels/1a75e9f15481d11084fe66bc2a5afac6dc5bec20ed56a7351a6d65ef0fe8762b.png is a low contrast image\n",
      "  warn('%s is a low contrast image' % fname)\n",
      " 14%|█▍        | 105/735 [00:03<00:20, 30.79it/s]/home/jccaicedo/.local/lib/python3.6/site-packages/skimage/morphology/misc.py:127: UserWarning: Only one label was provided to `remove_small_objects`. Did you mean to use a boolean array?\n",
      "  warn(\"Only one label was provided to `remove_small_objects`. \"\n",
      "/home/jccaicedo/.local/lib/python3.6/site-packages/skimage/io/_io.py:140: UserWarning: /data1/image-segmentation/dsb_eval/boundary_labels/220b37f4ca7cab486d2b71cd87a46ee7411a5aa142799d96ed98015ab5ba538a.png is a low contrast image\n",
      "  warn('%s is a low contrast image' % fname)\n",
      " 21%|██        | 153/735 [00:04<00:17, 32.47it/s]/home/jccaicedo/.local/lib/python3.6/site-packages/skimage/io/_io.py:140: UserWarning: /data1/image-segmentation/dsb_eval/boundary_labels/31f1fbe85b8899258ea5bcf5f93f7ac8238660c386aeab40649c715bd2e38a0a.png is a low contrast image\n",
      "  warn('%s is a low contrast image' % fname)\n",
      " 25%|██▌       | 185/735 [00:05<00:16, 33.90it/s]/home/jccaicedo/.local/lib/python3.6/site-packages/skimage/io/_io.py:140: UserWarning: /data1/image-segmentation/dsb_eval/boundary_labels/3d0ca3498d97edebd28dbc7035eced40baa4af199af09cbb7251792accaa69fe.png is a low contrast image\n",
      "  warn('%s is a low contrast image' % fname)\n",
      " 33%|███▎      | 245/735 [00:07<00:15, 31.94it/s]/home/jccaicedo/.local/lib/python3.6/site-packages/skimage/io/_io.py:140: UserWarning: /data1/image-segmentation/dsb_eval/boundary_labels/51c70bb8a299943b27f8b354571272692d8f2705036a1a9562156c76da5f025b.png is a low contrast image\n",
      "  warn('%s is a low contrast image' % fname)\n",
      " 37%|███▋      | 270/735 [00:08<00:14, 31.58it/s]/home/jccaicedo/.local/lib/python3.6/site-packages/skimage/io/_io.py:140: UserWarning: /data1/image-segmentation/dsb_eval/boundary_labels/58c593bcb98386e7fd42a1d34e291db93477624b164e83ab2afa3caa90d1d921.png is a low contrast image\n",
      "  warn('%s is a low contrast image' % fname)\n",
      " 38%|███▊      | 277/735 [00:08<00:14, 31.98it/s]/home/jccaicedo/.local/lib/python3.6/site-packages/skimage/io/_io.py:140: UserWarning: /data1/image-segmentation/dsb_eval/boundary_labels/5b0bde771bc67c505d1b59405cbcad0a2766ec3ee4e35852e959552c1b454233.png is a low contrast image\n",
      "  warn('%s is a low contrast image' % fname)\n",
      " 42%|████▏     | 311/735 [00:10<00:14, 29.94it/s]/home/jccaicedo/.local/lib/python3.6/site-packages/skimage/io/_io.py:140: UserWarning: /data1/image-segmentation/dsb_eval/boundary_labels/648c8ffa496e1716017906d0bf135debfc93386ae86aa3d4adbda9a505985fd9.png is a low contrast image\n",
      "  warn('%s is a low contrast image' % fname)\n",
      " 50%|████▉     | 367/735 [00:12<00:12, 30.57it/s]/home/jccaicedo/.local/lib/python3.6/site-packages/skimage/io/_io.py:140: UserWarning: /data1/image-segmentation/dsb_eval/boundary_labels/7b38c9173ebe69b4c6ba7e703c0c27f39305d9b2910f46405993d2ea7a963b80.png is a low contrast image\n",
      "  warn('%s is a low contrast image' % fname)\n",
      " 53%|█████▎    | 387/735 [00:12<00:11, 30.50it/s]/home/jccaicedo/.local/lib/python3.6/site-packages/skimage/io/_io.py:140: UserWarning: /data1/image-segmentation/dsb_eval/boundary_labels/84eeec681987753029eb83ea5f3ff7e8b5697783cdb2035f2882d40c9a3f1029.png is a low contrast image\n",
      "  warn('%s is a low contrast image' % fname)\n",
      "/home/jccaicedo/.local/lib/python3.6/site-packages/skimage/io/_io.py:140: UserWarning: /data1/image-segmentation/dsb_eval/boundary_labels/866a8cba7bfe1ea73e383d6cf492e53752579140c8b833bb56839a55bf79d855.png is a low contrast image\n",
      "  warn('%s is a low contrast image' % fname)\n",
      " 56%|█████▌    | 411/735 [00:13<00:10, 30.32it/s]/home/jccaicedo/.local/lib/python3.6/site-packages/skimage/io/_io.py:140: UserWarning: /data1/image-segmentation/dsb_eval/boundary_labels/8e507d58f4c27cd2a82bee79fe27b069befd62a46fdaed20970a95a2ba819c7b.png is a low contrast image\n",
      "  warn('%s is a low contrast image' % fname)\n",
      " 57%|█████▋    | 418/735 [00:15<00:11, 27.25it/s]/home/jccaicedo/.local/lib/python3.6/site-packages/skimage/io/_io.py:140: UserWarning: /data1/image-segmentation/dsb_eval/boundary_labels/8f6597cd978c060378177df76e554d0578b97eab471e237dbe0adc0dd0d93d63.png is a low contrast image\n",
      "  warn('%s is a low contrast image' % fname)\n",
      " 57%|█████▋    | 422/735 [00:15<00:11, 27.06it/s]/home/jccaicedo/.local/lib/python3.6/site-packages/skimage/io/_io.py:140: UserWarning: /data1/image-segmentation/dsb_eval/boundary_labels/93c5638e7e6433b5c9cc87c152bcbe28873d2f9d6a392cca0642520807542a77.png is a low contrast image\n",
      "  warn('%s is a low contrast image' % fname)\n",
      " 58%|█████▊    | 429/735 [00:15<00:11, 27.33it/s]/home/jccaicedo/.local/lib/python3.6/site-packages/skimage/io/_io.py:140: UserWarning: /data1/image-segmentation/dsb_eval/boundary_labels/93cfd412c7de5210bbd262ec3a602cfea65072e9272e9fce9b5339a5b9436eb7.png is a low contrast image\n",
      "  warn('%s is a low contrast image' % fname)\n",
      " 60%|█████▉    | 439/735 [00:16<00:10, 27.44it/s]/home/jccaicedo/.local/lib/python3.6/site-packages/skimage/io/_io.py:140: UserWarning: /data1/image-segmentation/dsb_eval/boundary_labels/9774c82396327929fea05e40ae153cabf0107178b2ae3e40a5709b409793887e.png is a low contrast image\n",
      "  warn('%s is a low contrast image' % fname)\n",
      " 61%|██████    | 448/735 [00:16<00:10, 27.61it/s]/home/jccaicedo/.local/lib/python3.6/site-packages/skimage/io/_io.py:140: UserWarning: /data1/image-segmentation/dsb_eval/boundary_labels/9cbc0700317361236a9fca2eb1f8f79e3a7da17b1970c179cf453921a6136001.png is a low contrast image\n",
      "  warn('%s is a low contrast image' % fname)\n",
      " 70%|██████▉   | 511/735 [00:17<00:07, 28.58it/s]/home/jccaicedo/.local/lib/python3.6/site-packages/skimage/io/_io.py:140: UserWarning: /data1/image-segmentation/dsb_eval/boundary_labels/af576e8ec3a8d0b57eb6a311299e9e4fd2047970d3dd9d6f52e54ea6a91109da.png is a low contrast image\n",
      "  warn('%s is a low contrast image' % fname)\n",
      " 75%|███████▌  | 552/735 [00:18<00:06, 29.06it/s]/home/jccaicedo/.local/lib/python3.6/site-packages/skimage/io/_io.py:140: UserWarning: /data1/image-segmentation/dsb_eval/boundary_labels/be1916d0e5592c17f971315b5de720ef6894173087399daed94a52ef109c1572.png is a low contrast image\n",
      "  warn('%s is a low contrast image' % fname)\n",
      " 79%|███████▉  | 579/735 [00:19<00:05, 29.27it/s]/home/jccaicedo/.local/lib/python3.6/site-packages/skimage/io/_io.py:140: UserWarning: /data1/image-segmentation/dsb_eval/boundary_labels/c6de542205b891eed5c40e6d8ae3d03a6ca39b26dc445b4dbc64340d4d64dd2d.png is a low contrast image\n",
      "  warn('%s is a low contrast image' % fname)\n",
      " 84%|████████▍ | 617/735 [00:20<00:03, 29.50it/s]/home/jccaicedo/.local/lib/python3.6/site-packages/skimage/io/_io.py:140: UserWarning: /data1/image-segmentation/dsb_eval/boundary_labels/d7ec8003735996458b56ccb8ae34d080eb2a6adabef931323239632515b4b220.png is a low contrast image\n",
      "  warn('%s is a low contrast image' % fname)\n"
     ]
    },
    {
     "name": "stderr",
     "output_type": "stream",
     "text": [
      " 85%|████████▍ | 623/735 [00:21<00:03, 29.64it/s]/home/jccaicedo/.local/lib/python3.6/site-packages/skimage/io/_io.py:140: UserWarning: /data1/image-segmentation/dsb_eval/boundary_labels/d8d4bf68a76e4e4c5f21de7ac613451f7115a04db686151e78b8ec0b6a22022b.png is a low contrast image\n",
      "  warn('%s is a low contrast image' % fname)\n",
      " 88%|████████▊ | 645/735 [00:21<00:03, 29.88it/s]/home/jccaicedo/.local/lib/python3.6/site-packages/skimage/io/_io.py:140: UserWarning: /data1/image-segmentation/dsb_eval/boundary_labels/e1bcb583985325d0ef5f3ef52957d0371c96d4af767b13e48102bca9d5351a9b.png is a low contrast image\n",
      "  warn('%s is a low contrast image' % fname)\n",
      " 90%|████████▉ | 658/735 [00:21<00:02, 30.15it/s]/home/jccaicedo/.local/lib/python3.6/site-packages/skimage/io/_io.py:140: UserWarning: /data1/image-segmentation/dsb_eval/boundary_labels/e5aeb5b3577abbebe8982b5dd7d22c4257250ad3000661a42f38bf9248d291fd.png is a low contrast image\n",
      "  warn('%s is a low contrast image' % fname)\n",
      " 92%|█████████▏| 677/735 [00:22<00:01, 30.44it/s]/home/jccaicedo/.local/lib/python3.6/site-packages/skimage/io/_io.py:140: UserWarning: /data1/image-segmentation/dsb_eval/boundary_labels/ec486143ecfec847c22cd8cbc207d85312bcf38e61c9b9a805e0d12add62da8d.png is a low contrast image\n",
      "  warn('%s is a low contrast image' % fname)\n",
      " 95%|█████████▌| 699/735 [00:22<00:01, 30.58it/s]/home/jccaicedo/.local/lib/python3.6/site-packages/skimage/io/_io.py:140: UserWarning: /data1/image-segmentation/dsb_eval/boundary_labels/f4c4db3df4ff0de90f44b027fc2e28c16bf7e5c75ea75b0a9762bbb7ac86e7a3.png is a low contrast image\n",
      "  warn('%s is a low contrast image' % fname)\n",
      " 98%|█████████▊| 718/735 [00:23<00:00, 30.68it/s]/home/jccaicedo/.local/lib/python3.6/site-packages/skimage/io/_io.py:140: UserWarning: /data1/image-segmentation/dsb_eval/boundary_labels/fa73f24532b3667718ede7ac5c2e24ad7d3cae17b0a42ed17bbb81b15c28f4ae.png is a low contrast image\n",
      "  warn('%s is a low contrast image' % fname)\n",
      " 98%|█████████▊| 723/735 [00:23<00:00, 30.74it/s]/home/jccaicedo/.local/lib/python3.6/site-packages/skimage/io/_io.py:140: UserWarning: /data1/image-segmentation/dsb_eval/boundary_labels/fc9269fb2e651cd4a32b65ae164f79b0a2ea823e0a83508c85d7985a6bed43cf.png is a low contrast image\n",
      "  warn('%s is a low contrast image' % fname)\n",
      "100%|██████████| 735/735 [00:23<00:00, 30.91it/s]"
     ]
    },
    {
     "name": "stdout",
     "output_type": "stream",
     "text": [
      "Total objects:  33617\n"
     ]
    },
    {
     "name": "stderr",
     "output_type": "stream",
     "text": [
      "\n"
     ]
    }
   ],
   "source": [
    "filelist = sorted(os.listdir(config_vars[\"raw_annotations_dir\"]))\n",
    "total_objects = 0\n",
    "\n",
    "# run over all raw images\n",
    "for filename in tqdm(filelist):\n",
    "    \n",
    "    # GET ANNOTATION\n",
    "    annot = skimage.io.imread(config_vars[\"raw_annotations_dir\"] + filename)\n",
    "    \n",
    "    # strip the first channel\n",
    "    if len(annot.shape) == 3:\n",
    "        annot = annot[:,:,0]\n",
    "    \n",
    "    # label the annotations nicely to prepare for future filtering operation\n",
    "    annot = skimage.morphology.label(annot)\n",
    "    total_objects += len(np.unique(annot)) - 1\n",
    "    \n",
    "    # filter small objects, e.g. micronulcei\n",
    "    annot = skimage.morphology.remove_small_objects(annot, min_size=config_vars[\"min_nucleus_size\"])\n",
    "    \n",
    "    # find boundaries\n",
    "    boundaries = skimage.segmentation.find_boundaries(annot)\n",
    "\n",
    "    for k in range(2, config_vars[\"boundary_size\"], 2):\n",
    "        boundaries = skimage.morphology.binary_dilation(boundaries)\n",
    "        \n",
    "    # BINARY LABEL\n",
    "    \n",
    "    # prepare buffer for binary label\n",
    "    label_binary = np.zeros((annot.shape + (3,)))\n",
    "    \n",
    "    # write binary label\n",
    "    label_binary[(annot == 0) & (boundaries == 0), 0] = 1\n",
    "    label_binary[(annot != 0) & (boundaries == 0), 1] = 1\n",
    "    label_binary[boundaries == 1, 2] = 1\n",
    "    \n",
    "    # save it - converts image to range from 0 to 255\n",
    "    skimage.io.imsave(config_vars[\"boundary_labels_dir\"] + filename.replace(\".tiff\",\".png\"), label_binary)\n",
    "    \n",
    "print(\"Total objects: \",total_objects)"
   ]
  },
  {
   "cell_type": "code",
   "execution_count": 9,
   "metadata": {
    "scrolled": false
   },
   "outputs": [
    {
     "name": "stdout",
     "output_type": "stream",
     "text": [
      "int64 (360, 360)\n"
     ]
    },
    {
     "data": {
      "image/png": "[encoded data removed]",
      "text/plain": [
       "<matplotlib.figure.Figure at 0x7f4f9624b438>"
      ]
     },
     "metadata": {},
     "output_type": "display_data"
    },
    {
     "data": {
      "image/png": "[encoded data removed]",
      "text/plain": [
       "<matplotlib.figure.Figure at 0x7f4f962267b8>"
      ]
     },
     "metadata": {},
     "output_type": "display_data"
    }
   ],
   "source": [
    "# Show example image \n",
    "print(annot.dtype, annot.shape)\n",
    "\n",
    "# plot original annotation\n",
    "plt.figure(figsize=(10,10))\n",
    "plt.imshow(annot, cmap=\"nipy_spectral\")\n",
    "plt.show()\n",
    "\n",
    "# plot boundary labels\n",
    "plt.figure(figsize=(10,10))\n",
    "plt.imshow(label_binary)\n",
    "plt.show()\n"
   ]
  },
  {
   "cell_type": "markdown",
   "metadata": {},
   "source": [
    "# Augment images (optional) \n",
    "* data augmentation using affine transformations \n",
    "* n_points x n_points data points are equally distributed in the image \n",
    "* distort \n",
    "* n_augmentations images are calculated for each image \n"
   ]
  },
  {
   "cell_type": "code",
   "execution_count": 10,
   "metadata": {
    "scrolled": true
   },
   "outputs": [],
   "source": [
    "def generate_augmented_examples(filelist, n_augmentations, n_points, distort, dir_boundary_labels, dir_images_normalized_8bit):\n",
    "    \n",
    "    updated_filelist = []\n",
    "    \n",
    "    # run over all raw images\n",
    "    for filename in tqdm(filelist):\n",
    "        \n",
    "        #if filename.startswith(\"IXMtest\"):\n",
    "        #    print(\"Skipping\", filename)\n",
    "        #    continue\n",
    "            \n",
    "        # check if boundary labels were calculated \n",
    "        my_file = pathlib.Path(dir_boundary_labels + filename)\n",
    "        \n",
    "        if my_file.is_file():\n",
    "            \n",
    "            # load image \n",
    "            x = skimage.io.imread(dir_images_normalized_8bit + filename)\n",
    "            \n",
    "            # load annotation \n",
    "            y = skimage.io.imread(dir_boundary_labels + filename)\n",
    "            \n",
    "            for n in range(1,n_augmentations):\n",
    "                # augment image and annotation \n",
    "                x_augmented, y_augmented = utils.augmentation.deform(x, y, points = n_points, distort = distort)\n",
    "                \n",
    "                # filename for augmented images\n",
    "                filename_augmented = os.path.splitext(filename)[0] + '_aug_{:03d}'.format(n) + os.path.splitext(filename)[1]\n",
    "                skimage.io.imsave(dir_images_normalized_8bit + filename_augmented, x)\n",
    "                skimage.io.imsave(dir_boundary_labels + filename_augmented, y)\n",
    "                updated_filelist.append(filename_augmented)\n",
    "                \n",
    "    return filelist + updated_filelist \n",
    "\n",
    "if config_vars[\"augment_images\"]:\n",
    "    \n",
    "    tmp_value = config_vars[\"max_training_images\"]\n",
    "    config_vars[\"max_training_images\"] = 0\n",
    "    tmp_partitions = utils.dirtools.read_data_partitions(config_vars, load_augmented=False)\n",
    "    \n",
    "    training_files = generate_augmented_examples(\n",
    "        tmp_partitions[\"training\"], \n",
    "        config_vars[\"elastic_augmentations\"], \n",
    "        config_vars[\"elastic_points\"], \n",
    "        config_vars[\"elastic_distortion\"], \n",
    "        config_vars[\"boundary_labels_dir\"], \n",
    "        config_vars[\"normalized_images_dir\"]\n",
    "    )\n",
    "    \n",
    "    config_vars[\"max_training_images\"] = tmp_value\n"
   ]
  },
  {
   "cell_type": "code",
   "execution_count": null,
   "metadata": {},
   "outputs": [],
   "source": []
  }
 ],
 "metadata": {
  "kernelspec": {
   "display_name": "Python 3",
   "language": "python",
   "name": "python3"
  },
  "language_info": {
   "codemirror_mode": {
    "name": "ipython",
    "version": 3
   },
   "file_extension": ".py",
   "mimetype": "text/x-python",
   "name": "python",
   "nbconvert_exporter": "python",
   "pygments_lexer": "ipython3",
   "version": "3.6.4"
  }
 },
 "nbformat": 4,
 "nbformat_minor": 2
}
