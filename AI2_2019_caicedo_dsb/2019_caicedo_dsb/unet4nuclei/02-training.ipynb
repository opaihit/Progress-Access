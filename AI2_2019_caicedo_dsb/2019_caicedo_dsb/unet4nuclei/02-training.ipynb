{
 "cells": [
  {
   "cell_type": "markdown",
   "metadata": {},
   "source": [
    "# Step 02\n",
    "# Training a U-Net model"
   ]
  },
  {
   "cell_type": "code",
   "execution_count": 1,
   "metadata": {},
   "outputs": [],
   "source": [
    "%matplotlib inline"
   ]
  },
  {
   "cell_type": "code",
   "execution_count": 2,
   "metadata": {},
   "outputs": [
    {
     "name": "stderr",
     "output_type": "stream",
     "text": [
      "/usr/local/lib/python3.6/site-packages/h5py/__init__.py:36: FutureWarning: Conversion of the second argument of issubdtype from `float` to `np.floating` is deprecated. In future, it will be treated as `np.float64 == np.dtype(float).type`.\n",
      "  from ._conv import register_converters as _register_converters\n",
      "/usr/local/lib/python3.6/importlib/_bootstrap.py:219: RuntimeWarning: numpy.dtype size changed, may indicate binary incompatibility. Expected 96, got 88\n",
      "  return f(*args, **kwds)\n",
      "Using TensorFlow backend.\n"
     ]
    }
   ],
   "source": [
    "import sys\n",
    "import os\n",
    "\n",
    "import numpy as np\n",
    "import skimage.io\n",
    "\n",
    "import tensorflow as tf\n",
    "\n",
    "import keras.backend\n",
    "import keras.callbacks\n",
    "import keras.layers\n",
    "import keras.models\n",
    "import keras.optimizers\n",
    "\n",
    "import utils.model_builder\n",
    "import utils.data_provider\n",
    "import utils.metrics\n",
    "import utils.objectives\n",
    "import utils.dirtools\n",
    "\n",
    "# Uncomment the following line if you don't have a GPU\n",
    "#os.environ['CUDA_VISIBLE_DEVICES'] = ''"
   ]
  },
  {
   "cell_type": "markdown",
   "metadata": {},
   "source": [
    "# Configuration"
   ]
  },
  {
   "cell_type": "code",
   "execution_count": 3,
   "metadata": {},
   "outputs": [],
   "source": [
    "from config import config_vars"
   ]
  },
  {
   "cell_type": "code",
   "execution_count": 4,
   "metadata": {},
   "outputs": [
    {
     "data": {
      "text/plain": [
       "{'augment_images': False,\n",
       " 'batch_size': 10,\n",
       " 'boundary_boost_factor': 1,\n",
       " 'boundary_labels_dir': '/data1/image-segmentation/dsb_eval/boundary_labels/',\n",
       " 'boundary_size': 2,\n",
       " 'cell_min_size': 16,\n",
       " 'create_split_files': False,\n",
       " 'crop_size': 256,\n",
       " 'csv_log_file': '/data1/image-segmentation/dsb_eval/experiments/09/log.csv',\n",
       " 'elastic_augmentations': 10,\n",
       " 'elastic_distortion': 5,\n",
       " 'elastic_points': 16,\n",
       " 'epochs': 50,\n",
       " 'experiment_dir': '/data1/image-segmentation/dsb_eval/experiments/09/out/',\n",
       " 'labels_out_dir': '/data1/image-segmentation/dsb_eval/experiments/09/out/segm/',\n",
       " 'learning_rate': 0.0001,\n",
       " 'max_training_images': 0,\n",
       " 'min_nucleus_size': 5,\n",
       " 'model_file': '/data1/image-segmentation/dsb_eval/experiments/09/model.hdf5',\n",
       " 'normalized_images_dir': '/data1/image-segmentation/dsb_eval/norm_images/',\n",
       " 'object_dilation': 3,\n",
       " 'path_files_test': '/data1/image-segmentation/dsb_eval/test.txt',\n",
       " 'path_files_training': '/data1/image-segmentation/dsb_eval/training.txt',\n",
       " 'path_files_validation': '/data1/image-segmentation/dsb_eval/validation.txt',\n",
       " 'pixel_depth': 8,\n",
       " 'probmap_out_dir': '/data1/image-segmentation/dsb_eval/experiments/09/out/prob/',\n",
       " 'raw_annotations_dir': '/data1/image-segmentation/dsb_eval/raw_annotations/',\n",
       " 'raw_images_dir': '/data1/image-segmentation/dsb_eval/raw_images/',\n",
       " 'rescale_labels': True,\n",
       " 'root_directory': '/data1/image-segmentation/dsb_eval/',\n",
       " 'steps_per_epoch': 200,\n",
       " 'training_fraction': 0.5,\n",
       " 'transform_images_to_PNG': True,\n",
       " 'val_batch_size': 10,\n",
       " 'validation_fraction': 0.25}"
      ]
     },
     "execution_count": 4,
     "metadata": {},
     "output_type": "execute_result"
    }
   ],
   "source": [
    "experiment_name = '09'\n",
    "\n",
    "config_vars = utils.dirtools.setup_experiment(config_vars, experiment_name)\n",
    "\n",
    "data_partitions = utils.dirtools.read_data_partitions(config_vars)\n",
    "\n",
    "config_vars"
   ]
  },
  {
   "cell_type": "markdown",
   "metadata": {},
   "source": [
    "# Initiate data generators"
   ]
  },
  {
   "cell_type": "code",
   "execution_count": 5,
   "metadata": {},
   "outputs": [],
   "source": [
    "#build session running on GPU 1\n",
    "configuration = tf.ConfigProto()\n",
    "configuration.gpu_options.allow_growth = True\n",
    "configuration.gpu_options.visible_device_list = \"1\"\n",
    "session = tf.Session(config = configuration)\n",
    "\n",
    "# apply session\n",
    "keras.backend.set_session(session)\n",
    "\n",
    "train_gen = utils.data_provider.random_sample_generator(\n",
    "    config_vars[\"normalized_images_dir\"],\n",
    "    config_vars[\"boundary_labels_dir\"],\n",
    "    data_partitions[\"training\"],\n",
    "    config_vars[\"batch_size\"],\n",
    "    config_vars[\"pixel_depth\"],\n",
    "    config_vars[\"crop_size\"],\n",
    "    config_vars[\"crop_size\"],\n",
    "    config_vars[\"rescale_labels\"],\n",
    "    scales=[1], invert=False\n",
    ")\n",
    "\n",
    "val_gen = utils.data_provider.single_data_from_images(\n",
    "     config_vars[\"normalized_images_dir\"],\n",
    "     config_vars[\"boundary_labels_dir\"],\n",
    "     data_partitions[\"validation\"],\n",
    "     config_vars[\"val_batch_size\"],\n",
    "     config_vars[\"pixel_depth\"],\n",
    "     config_vars[\"crop_size\"],\n",
    "     config_vars[\"crop_size\"],\n",
    "     config_vars[\"rescale_labels\"]\n",
    ")\n",
    "\n",
    "config_vars[\"val_batch_size\"] = 2"
   ]
  },
  {
   "cell_type": "markdown",
   "metadata": {},
   "source": [
    "# Build model"
   ]
  },
  {
   "cell_type": "code",
   "execution_count": 6,
   "metadata": {
    "scrolled": false
   },
   "outputs": [
    {
     "name": "stdout",
     "output_type": "stream",
     "text": [
      "__________________________________________________________________________________________________\n",
      "Layer (type)                    Output Shape         Param #     Connected to                     \n",
      "==================================================================================================\n",
      "input_1 (InputLayer)            (None, 256, 256, 3)  0                                            \n",
      "__________________________________________________________________________________________________\n",
      "conv2d_1 (Conv2D)               (None, 256, 256, 64) 1792        input_1[0][0]                    \n",
      "__________________________________________________________________________________________________\n",
      "batch_normalization_1 (BatchNor (None, 256, 256, 64) 256         conv2d_1[0][0]                   \n",
      "__________________________________________________________________________________________________\n",
      "conv2d_2 (Conv2D)               (None, 256, 256, 64) 36928       batch_normalization_1[0][0]      \n",
      "__________________________________________________________________________________________________\n",
      "batch_normalization_2 (BatchNor (None, 256, 256, 64) 256         conv2d_2[0][0]                   \n",
      "__________________________________________________________________________________________________\n",
      "max_pooling2d_1 (MaxPooling2D)  (None, 128, 128, 64) 0           batch_normalization_2[0][0]      \n",
      "__________________________________________________________________________________________________\n",
      "conv2d_3 (Conv2D)               (None, 128, 128, 128 73856       max_pooling2d_1[0][0]            \n",
      "__________________________________________________________________________________________________\n",
      "batch_normalization_3 (BatchNor (None, 128, 128, 128 512         conv2d_3[0][0]                   \n",
      "__________________________________________________________________________________________________\n",
      "conv2d_4 (Conv2D)               (None, 128, 128, 128 147584      batch_normalization_3[0][0]      \n",
      "__________________________________________________________________________________________________\n",
      "batch_normalization_4 (BatchNor (None, 128, 128, 128 512         conv2d_4[0][0]                   \n",
      "__________________________________________________________________________________________________\n",
      "max_pooling2d_2 (MaxPooling2D)  (None, 64, 64, 128)  0           batch_normalization_4[0][0]      \n",
      "__________________________________________________________________________________________________\n",
      "conv2d_5 (Conv2D)               (None, 64, 64, 256)  295168      max_pooling2d_2[0][0]            \n",
      "__________________________________________________________________________________________________\n",
      "batch_normalization_5 (BatchNor (None, 64, 64, 256)  1024        conv2d_5[0][0]                   \n",
      "__________________________________________________________________________________________________\n",
      "conv2d_6 (Conv2D)               (None, 64, 64, 256)  590080      batch_normalization_5[0][0]      \n",
      "__________________________________________________________________________________________________\n",
      "batch_normalization_6 (BatchNor (None, 64, 64, 256)  1024        conv2d_6[0][0]                   \n",
      "__________________________________________________________________________________________________\n",
      "max_pooling2d_3 (MaxPooling2D)  (None, 32, 32, 256)  0           batch_normalization_6[0][0]      \n",
      "__________________________________________________________________________________________________\n",
      "conv2d_7 (Conv2D)               (None, 32, 32, 512)  1180160     max_pooling2d_3[0][0]            \n",
      "__________________________________________________________________________________________________\n",
      "batch_normalization_7 (BatchNor (None, 32, 32, 512)  2048        conv2d_7[0][0]                   \n",
      "__________________________________________________________________________________________________\n",
      "conv2d_8 (Conv2D)               (None, 32, 32, 512)  2359808     batch_normalization_7[0][0]      \n",
      "__________________________________________________________________________________________________\n",
      "batch_normalization_8 (BatchNor (None, 32, 32, 512)  2048        conv2d_8[0][0]                   \n",
      "__________________________________________________________________________________________________\n",
      "up_sampling2d_1 (UpSampling2D)  (None, 64, 64, 512)  0           batch_normalization_8[0][0]      \n",
      "__________________________________________________________________________________________________\n",
      "concatenate_1 (Concatenate)     (None, 64, 64, 768)  0           up_sampling2d_1[0][0]            \n",
      "                                                                 batch_normalization_6[0][0]      \n",
      "__________________________________________________________________________________________________\n",
      "conv2d_9 (Conv2D)               (None, 64, 64, 256)  1769728     concatenate_1[0][0]              \n",
      "__________________________________________________________________________________________________\n",
      "batch_normalization_9 (BatchNor (None, 64, 64, 256)  1024        conv2d_9[0][0]                   \n",
      "__________________________________________________________________________________________________\n",
      "conv2d_10 (Conv2D)              (None, 64, 64, 256)  590080      batch_normalization_9[0][0]      \n",
      "__________________________________________________________________________________________________\n",
      "batch_normalization_10 (BatchNo (None, 64, 64, 256)  1024        conv2d_10[0][0]                  \n",
      "__________________________________________________________________________________________________\n",
      "up_sampling2d_2 (UpSampling2D)  (None, 128, 128, 256 0           batch_normalization_10[0][0]     \n",
      "__________________________________________________________________________________________________\n",
      "concatenate_2 (Concatenate)     (None, 128, 128, 384 0           up_sampling2d_2[0][0]            \n",
      "                                                                 batch_normalization_4[0][0]      \n",
      "__________________________________________________________________________________________________\n",
      "conv2d_11 (Conv2D)              (None, 128, 128, 128 442496      concatenate_2[0][0]              \n",
      "__________________________________________________________________________________________________\n",
      "batch_normalization_11 (BatchNo (None, 128, 128, 128 512         conv2d_11[0][0]                  \n",
      "__________________________________________________________________________________________________\n",
      "conv2d_12 (Conv2D)              (None, 128, 128, 128 147584      batch_normalization_11[0][0]     \n",
      "__________________________________________________________________________________________________\n",
      "batch_normalization_12 (BatchNo (None, 128, 128, 128 512         conv2d_12[0][0]                  \n",
      "__________________________________________________________________________________________________\n",
      "up_sampling2d_3 (UpSampling2D)  (None, 256, 256, 128 0           batch_normalization_12[0][0]     \n",
      "__________________________________________________________________________________________________\n",
      "concatenate_3 (Concatenate)     (None, 256, 256, 192 0           up_sampling2d_3[0][0]            \n",
      "                                                                 batch_normalization_2[0][0]      \n",
      "__________________________________________________________________________________________________\n",
      "conv2d_13 (Conv2D)              (None, 256, 256, 64) 110656      concatenate_3[0][0]              \n",
      "__________________________________________________________________________________________________\n",
      "batch_normalization_13 (BatchNo (None, 256, 256, 64) 256         conv2d_13[0][0]                  \n",
      "__________________________________________________________________________________________________\n",
      "conv2d_14 (Conv2D)              (None, 256, 256, 64) 36928       batch_normalization_13[0][0]     \n",
      "__________________________________________________________________________________________________\n",
      "batch_normalization_14 (BatchNo (None, 256, 256, 64) 256         conv2d_14[0][0]                  \n",
      "__________________________________________________________________________________________________\n",
      "conv2d_15 (Conv2D)              (None, 256, 256, 3)  195         batch_normalization_14[0][0]     \n",
      "==================================================================================================\n",
      "Total params: 7,794,307\n",
      "Trainable params: 7,788,675\n",
      "Non-trainable params: 5,632\n",
      "__________________________________________________________________________________________________\n"
     ]
    }
   ],
   "source": [
    "# build model\n",
    "model = utils.model_builder.get_model_3_class(config_vars[\"crop_size\"], config_vars[\"crop_size\"], activation=None)\n",
    "model.summary()\n",
    "\n",
    "#loss = \"categorical_crossentropy\"\n",
    "loss = utils.objectives.weighted_crossentropy\n",
    "\n",
    "metrics = [keras.metrics.categorical_accuracy, \n",
    "           utils.metrics.channel_recall(channel=0, name=\"background_recall\"), \n",
    "           utils.metrics.channel_precision(channel=0, name=\"background_precision\"),\n",
    "           utils.metrics.channel_recall(channel=1, name=\"interior_recall\"), \n",
    "           utils.metrics.channel_precision(channel=1, name=\"interior_precision\"),\n",
    "           utils.metrics.channel_recall(channel=2, name=\"boundary_recall\"), \n",
    "           utils.metrics.channel_precision(channel=2, name=\"boundary_precision\"),\n",
    "          ]\n",
    "\n",
    "optimizer = keras.optimizers.RMSprop(lr=config_vars[\"learning_rate\"])\n",
    "\n",
    "model.compile(loss=loss, metrics=metrics, optimizer=optimizer)\n",
    "\n",
    "# Performance logging\n",
    "callback_csv = keras.callbacks.CSVLogger(filename=config_vars[\"csv_log_file\"])\n",
    "\n",
    "callbacks=[callback_csv]\n"
   ]
  },
  {
   "cell_type": "markdown",
   "metadata": {},
   "source": [
    "# Training "
   ]
  },
  {
   "cell_type": "code",
   "execution_count": 7,
   "metadata": {
    "scrolled": false
   },
   "outputs": [
    {
     "name": "stdout",
     "output_type": "stream",
     "text": [
      "Epoch 1/50\n",
      "Training with 160 images.\n",
      "200/200 [==============================] - 73s 367ms/step - loss: 0.4261 - categorical_accuracy: 0.5273 - background_recall: 0.8667 - background_precision: 0.7280 - interior_recall: 0.4120 - interior_precision: 0.1005 - boundary_recall: 0.7613 - boundary_precision: 0.1668 - val_loss: 2.6915 - val_categorical_accuracy: 0.1888 - val_background_recall: 0.2004 - val_background_precision: 0.4928 - val_interior_recall: 0.0389 - val_interior_precision: 0.0094 - val_boundary_recall: 0.4545 - val_boundary_precision: 0.1975\n",
      "Epoch 2/50\n",
      "200/200 [==============================] - 68s 342ms/step - loss: 0.3308 - categorical_accuracy: 0.7740 - background_recall: 0.8991 - background_precision: 0.5786 - interior_recall: 0.5560 - interior_precision: 0.4172 - boundary_recall: 0.8312 - boundary_precision: 0.2403 - val_loss: 1.8959 - val_categorical_accuracy: 0.7036 - val_background_recall: 0.8530 - val_background_precision: 0.8072 - val_interior_recall: 0.0019 - val_interior_precision: 0.0039 - val_boundary_recall: 0.4312 - val_boundary_precision: 0.2399\n",
      "Epoch 3/50\n",
      "200/200 [==============================] - 69s 344ms/step - loss: 0.2975 - categorical_accuracy: 0.8975 - background_recall: 0.9066 - background_precision: 0.4915 - interior_recall: 0.5979 - interior_precision: 0.6960 - boundary_recall: 0.8652 - boundary_precision: 0.2601 - val_loss: 2.0450 - val_categorical_accuracy: 0.6829 - val_background_recall: 0.8215 - val_background_precision: 0.8122 - val_interior_recall: 0.0056 - val_interior_precision: 0.0115 - val_boundary_recall: 0.4799 - val_boundary_precision: 0.2162\n",
      "Epoch 4/50\n",
      "200/200 [==============================] - 68s 342ms/step - loss: 0.2787 - categorical_accuracy: 0.9161 - background_recall: 0.9148 - background_precision: 0.4962 - interior_recall: 0.6322 - interior_precision: 0.8500 - boundary_recall: 0.8829 - boundary_precision: 0.2739 - val_loss: 2.3670 - val_categorical_accuracy: 0.4935 - val_background_recall: 0.5860 - val_background_precision: 0.7462 - val_interior_recall: 0.0093 - val_interior_precision: 0.0046 - val_boundary_recall: 0.4646 - val_boundary_precision: 0.2958\n",
      "Epoch 5/50\n",
      "200/200 [==============================] - 68s 341ms/step - loss: 0.2424 - categorical_accuracy: 0.9232 - background_recall: 0.9210 - background_precision: 0.4697 - interior_recall: 0.6556 - interior_precision: 0.8184 - boundary_recall: 0.8960 - boundary_precision: 0.2900 - val_loss: 2.1042 - val_categorical_accuracy: 0.7219 - val_background_recall: 0.8778 - val_background_precision: 0.8179 - val_interior_recall: 0.0043 - val_interior_precision: 0.0071 - val_boundary_recall: 0.4029 - val_boundary_precision: 0.3329\n",
      "Epoch 6/50\n",
      "200/200 [==============================] - 68s 342ms/step - loss: 0.2277 - categorical_accuracy: 0.9264 - background_recall: 0.9244 - background_precision: 0.4649 - interior_recall: 0.6769 - interior_precision: 0.8250 - boundary_recall: 0.9006 - boundary_precision: 0.2903 - val_loss: 2.3173 - val_categorical_accuracy: 0.4297 - val_background_recall: 0.4957 - val_background_precision: 0.7497 - val_interior_recall: 0.0180 - val_interior_precision: 0.0093 - val_boundary_recall: 0.6303 - val_boundary_precision: 0.1552\n",
      "Epoch 7/50\n",
      "200/200 [==============================] - 68s 341ms/step - loss: 0.2105 - categorical_accuracy: 0.9299 - background_recall: 0.9308 - background_precision: 0.4652 - interior_recall: 0.6960 - interior_precision: 0.8367 - boundary_recall: 0.9096 - boundary_precision: 0.2980 - val_loss: 2.2514 - val_categorical_accuracy: 0.5521 - val_background_recall: 0.6534 - val_background_precision: 0.7906 - val_interior_recall: 0.0087 - val_interior_precision: 0.0086 - val_boundary_recall: 0.5524 - val_boundary_precision: 0.1467\n",
      "Epoch 8/50\n",
      "200/200 [==============================] - 68s 341ms/step - loss: 0.2100 - categorical_accuracy: 0.9295 - background_recall: 0.9277 - background_precision: 0.4586 - interior_recall: 0.6888 - interior_precision: 0.8440 - boundary_recall: 0.9154 - boundary_precision: 0.3007 - val_loss: 2.9013 - val_categorical_accuracy: 0.4690 - val_background_recall: 0.5502 - val_background_precision: 0.7504 - val_interior_recall: 0.0073 - val_interior_precision: 0.0050 - val_boundary_recall: 0.5526 - val_boundary_precision: 0.1220\n",
      "Epoch 9/50\n",
      "200/200 [==============================] - 69s 343ms/step - loss: 0.2091 - categorical_accuracy: 0.9259 - background_recall: 0.9334 - background_precision: 0.4884 - interior_recall: 0.7095 - interior_precision: 0.8575 - boundary_recall: 0.9226 - boundary_precision: 0.3042 - val_loss: 2.4989 - val_categorical_accuracy: 0.5618 - val_background_recall: 0.6678 - val_background_precision: 0.7975 - val_interior_recall: 0.0132 - val_interior_precision: 0.0117 - val_boundary_recall: 0.5739 - val_boundary_precision: 0.1839\n",
      "Epoch 10/50\n",
      "200/200 [==============================] - 68s 342ms/step - loss: 0.1950 - categorical_accuracy: 0.9228 - background_recall: 0.9351 - background_precision: 0.4756 - interior_recall: 0.7221 - interior_precision: 0.7739 - boundary_recall: 0.9234 - boundary_precision: 0.3036 - val_loss: 2.5155 - val_categorical_accuracy: 0.6124 - val_background_recall: 0.7335 - val_background_precision: 0.7980 - val_interior_recall: 0.0010 - val_interior_precision: 0.0034 - val_boundary_recall: 0.5615 - val_boundary_precision: 0.1158\n",
      "Epoch 11/50\n",
      "200/200 [==============================] - 68s 341ms/step - loss: 0.1768 - categorical_accuracy: 0.9248 - background_recall: 0.9401 - background_precision: 0.4698 - interior_recall: 0.7324 - interior_precision: 0.7776 - boundary_recall: 0.9268 - boundary_precision: 0.3008 - val_loss: 2.2884 - val_categorical_accuracy: 0.7600 - val_background_recall: 0.9239 - val_background_precision: 0.8284 - val_interior_recall: 4.4479e-04 - val_interior_precision: 0.0017 - val_boundary_recall: 0.4359 - val_boundary_precision: 0.2928\n",
      "Epoch 12/50\n",
      "200/200 [==============================] - 69s 343ms/step - loss: 0.1913 - categorical_accuracy: 0.9269 - background_recall: 0.9369 - background_precision: 0.4862 - interior_recall: 0.7267 - interior_precision: 0.8317 - boundary_recall: 0.9267 - boundary_precision: 0.3073 - val_loss: 2.3513 - val_categorical_accuracy: 0.7497 - val_background_recall: 0.9145 - val_background_precision: 0.8199 - val_interior_recall: 0.0020 - val_interior_precision: 0.0076 - val_boundary_recall: 0.3758 - val_boundary_precision: 0.2599\n",
      "Epoch 13/50\n",
      "200/200 [==============================] - 68s 342ms/step - loss: 0.1825 - categorical_accuracy: 0.9273 - background_recall: 0.9403 - background_precision: 0.4852 - interior_recall: 0.7366 - interior_precision: 0.8289 - boundary_recall: 0.9262 - boundary_precision: 0.3026 - val_loss: 2.6938 - val_categorical_accuracy: 0.6838 - val_background_recall: 0.8238 - val_background_precision: 0.8194 - val_interior_recall: 0.0043 - val_interior_precision: 0.0065 - val_boundary_recall: 0.4920 - val_boundary_precision: 0.2697\n",
      "Epoch 14/50\n",
      "200/200 [==============================] - 68s 342ms/step - loss: 0.1808 - categorical_accuracy: 0.9267 - background_recall: 0.9398 - background_precision: 0.4899 - interior_recall: 0.7391 - interior_precision: 0.8251 - boundary_recall: 0.9323 - boundary_precision: 0.3072 - val_loss: 1.9856 - val_categorical_accuracy: 0.7012 - val_background_recall: 0.8438 - val_background_precision: 0.8284 - val_interior_recall: 6.8361e-04 - val_interior_precision: 0.0019 - val_boundary_recall: 0.5760 - val_boundary_precision: 0.1908\n",
      "Epoch 15/50\n",
      "200/200 [==============================] - 68s 342ms/step - loss: 0.1792 - categorical_accuracy: 0.9347 - background_recall: 0.9416 - background_precision: 0.4872 - interior_recall: 0.7479 - interior_precision: 0.8920 - boundary_recall: 0.9346 - boundary_precision: 0.3182 - val_loss: 2.4439 - val_categorical_accuracy: 0.7212 - val_background_recall: 0.8731 - val_background_precision: 0.8201 - val_interior_recall: 0.0021 - val_interior_precision: 0.0073 - val_boundary_recall: 0.4884 - val_boundary_precision: 0.2140\n",
      "Epoch 16/50\n"
     ]
    },
    {
     "name": "stdout",
     "output_type": "stream",
     "text": [
      "200/200 [==============================] - 68s 341ms/step - loss: 0.1805 - categorical_accuracy: 0.9309 - background_recall: 0.9437 - background_precision: 0.5076 - interior_recall: 0.7486 - interior_precision: 0.8751 - boundary_recall: 0.9348 - boundary_precision: 0.3114 - val_loss: 2.9401 - val_categorical_accuracy: 0.7478 - val_background_recall: 0.9181 - val_background_precision: 0.8086 - val_interior_recall: 0.0022 - val_interior_precision: 0.0096 - val_boundary_recall: 0.2601 - val_boundary_precision: 0.2093\n",
      "Epoch 17/50\n",
      "200/200 [==============================] - 68s 341ms/step - loss: 0.1544 - categorical_accuracy: 0.9339 - background_recall: 0.9462 - background_precision: 0.4588 - interior_recall: 0.7626 - interior_precision: 0.8406 - boundary_recall: 0.9376 - boundary_precision: 0.3058 - val_loss: 2.7514 - val_categorical_accuracy: 0.7196 - val_background_recall: 0.8704 - val_background_precision: 0.8161 - val_interior_recall: 5.3918e-04 - val_interior_precision: 0.0014 - val_boundary_recall: 0.4542 - val_boundary_precision: 0.2285\n",
      "Epoch 18/50\n",
      "200/200 [==============================] - 68s 341ms/step - loss: 0.1671 - categorical_accuracy: 0.9345 - background_recall: 0.9454 - background_precision: 0.4954 - interior_recall: 0.7605 - interior_precision: 0.8596 - boundary_recall: 0.9372 - boundary_precision: 0.3275 - val_loss: 2.4263 - val_categorical_accuracy: 0.7012 - val_background_recall: 0.8421 - val_background_precision: 0.8219 - val_interior_recall: 0.0010 - val_interior_precision: 0.0034 - val_boundary_recall: 0.5598 - val_boundary_precision: 0.2006\n",
      "Epoch 19/50\n",
      "200/200 [==============================] - 68s 341ms/step - loss: 0.1650 - categorical_accuracy: 0.9360 - background_recall: 0.9477 - background_precision: 0.5050 - interior_recall: 0.7689 - interior_precision: 0.8737 - boundary_recall: 0.9422 - boundary_precision: 0.3362 - val_loss: 2.6450 - val_categorical_accuracy: 0.6258 - val_background_recall: 0.7493 - val_background_precision: 0.8114 - val_interior_recall: 8.7988e-04 - val_interior_precision: 0.0018 - val_boundary_recall: 0.5681 - val_boundary_precision: 0.1438\n",
      "Epoch 20/50\n",
      "200/200 [==============================] - 68s 341ms/step - loss: 0.1552 - categorical_accuracy: 0.9377 - background_recall: 0.9488 - background_precision: 0.4829 - interior_recall: 0.7750 - interior_precision: 0.8779 - boundary_recall: 0.9420 - boundary_precision: 0.3290 - val_loss: 2.7035 - val_categorical_accuracy: 0.6141 - val_background_recall: 0.7269 - val_background_precision: 0.8183 - val_interior_recall: 0.0152 - val_interior_precision: 0.0272 - val_boundary_recall: 0.6075 - val_boundary_precision: 0.1505\n",
      "Epoch 21/50\n",
      "200/200 [==============================] - 68s 341ms/step - loss: 0.1617 - categorical_accuracy: 0.9316 - background_recall: 0.9460 - background_precision: 0.4894 - interior_recall: 0.7672 - interior_precision: 0.8418 - boundary_recall: 0.9426 - boundary_precision: 0.3280 - val_loss: 3.1817 - val_categorical_accuracy: 0.7812 - val_background_recall: 0.9571 - val_background_precision: 0.8195 - val_interior_recall: 1.3463e-04 - val_interior_precision: 0.0027 - val_boundary_recall: 0.3328 - val_boundary_precision: 0.2782\n",
      "Epoch 22/50\n",
      "200/200 [==============================] - 68s 342ms/step - loss: 0.1468 - categorical_accuracy: 0.9377 - background_recall: 0.9495 - background_precision: 0.4749 - interior_recall: 0.7755 - interior_precision: 0.8616 - boundary_recall: 0.9428 - boundary_precision: 0.3257 - val_loss: 2.8738 - val_categorical_accuracy: 0.7163 - val_background_recall: 0.8672 - val_background_precision: 0.8231 - val_interior_recall: 0.0027 - val_interior_precision: 0.0055 - val_boundary_recall: 0.4624 - val_boundary_precision: 0.2638\n",
      "Epoch 23/50\n",
      "200/200 [==============================] - 68s 341ms/step - loss: 0.1487 - categorical_accuracy: 0.9384 - background_recall: 0.9496 - background_precision: 0.4748 - interior_recall: 0.7810 - interior_precision: 0.8963 - boundary_recall: 0.9443 - boundary_precision: 0.3264 - val_loss: 2.8076 - val_categorical_accuracy: 0.7499 - val_background_recall: 0.9134 - val_background_precision: 0.8178 - val_interior_recall: 0.0015 - val_interior_precision: 0.0069 - val_boundary_recall: 0.3550 - val_boundary_precision: 0.2502\n",
      "Epoch 24/50\n",
      "200/200 [==============================] - 68s 341ms/step - loss: 0.1488 - categorical_accuracy: 0.9372 - background_recall: 0.9524 - background_precision: 0.4959 - interior_recall: 0.7853 - interior_precision: 0.8713 - boundary_recall: 0.9477 - boundary_precision: 0.3386 - val_loss: 2.8990 - val_categorical_accuracy: 0.7424 - val_background_recall: 0.9037 - val_background_precision: 0.8230 - val_interior_recall: 4.7275e-04 - val_interior_precision: 0.0022 - val_boundary_recall: 0.3922 - val_boundary_precision: 0.2302\n",
      "Epoch 25/50\n",
      "200/200 [==============================] - 68s 341ms/step - loss: 0.1382 - categorical_accuracy: 0.9370 - background_recall: 0.9563 - background_precision: 0.5085 - interior_recall: 0.7982 - interior_precision: 0.8748 - boundary_recall: 0.9496 - boundary_precision: 0.3266 - val_loss: 2.6119 - val_categorical_accuracy: 0.7016 - val_background_recall: 0.8434 - val_background_precision: 0.8223 - val_interior_recall: 0.0013 - val_interior_precision: 0.0051 - val_boundary_recall: 0.5279 - val_boundary_precision: 0.1776\n",
      "Epoch 26/50\n",
      "200/200 [==============================] - 68s 341ms/step - loss: 0.1351 - categorical_accuracy: 0.9395 - background_recall: 0.9544 - background_precision: 0.4786 - interior_recall: 0.7865 - interior_precision: 0.8850 - boundary_recall: 0.9500 - boundary_precision: 0.3259 - val_loss: 2.8122 - val_categorical_accuracy: 0.6681 - val_background_recall: 0.7996 - val_background_precision: 0.8112 - val_interior_recall: 0.0025 - val_interior_precision: 0.0086 - val_boundary_recall: 0.5345 - val_boundary_precision: 0.1550\n",
      "Epoch 27/50\n",
      "200/200 [==============================] - 68s 341ms/step - loss: 0.1472 - categorical_accuracy: 0.9402 - background_recall: 0.9520 - background_precision: 0.4983 - interior_recall: 0.7888 - interior_precision: 0.9252 - boundary_recall: 0.9511 - boundary_precision: 0.3376 - val_loss: 3.1743 - val_categorical_accuracy: 0.6726 - val_background_recall: 0.8101 - val_background_precision: 0.8131 - val_interior_recall: 0.0019 - val_interior_precision: 0.0037 - val_boundary_recall: 0.4866 - val_boundary_precision: 0.1820\n",
      "Epoch 28/50\n",
      "200/200 [==============================] - 68s 342ms/step - loss: 0.1396 - categorical_accuracy: 0.9446 - background_recall: 0.9548 - background_precision: 0.4974 - interior_recall: 0.7963 - interior_precision: 0.9505 - boundary_recall: 0.9535 - boundary_precision: 0.3455 - val_loss: 2.9328 - val_categorical_accuracy: 0.7429 - val_background_recall: 0.9033 - val_background_precision: 0.8227 - val_interior_recall: 0.0020 - val_interior_precision: 0.0119 - val_boundary_recall: 0.4222 - val_boundary_precision: 0.1941\n",
      "Epoch 29/50\n",
      "200/200 [==============================] - 68s 341ms/step - loss: 0.1401 - categorical_accuracy: 0.9418 - background_recall: 0.9542 - background_precision: 0.4915 - interior_recall: 0.7957 - interior_precision: 0.9143 - boundary_recall: 0.9505 - boundary_precision: 0.3479 - val_loss: 3.1555 - val_categorical_accuracy: 0.7524 - val_background_recall: 0.9176 - val_background_precision: 0.8181 - val_interior_recall: 0.0037 - val_interior_precision: 0.0269 - val_boundary_recall: 0.3767 - val_boundary_precision: 0.2230\n",
      "Epoch 30/50\n",
      "200/200 [==============================] - 68s 340ms/step - loss: 0.1466 - categorical_accuracy: 0.9417 - background_recall: 0.9520 - background_precision: 0.4971 - interior_recall: 0.7949 - interior_precision: 0.9127 - boundary_recall: 0.9527 - boundary_precision: 0.3571 - val_loss: 3.1255 - val_categorical_accuracy: 0.7012 - val_background_recall: 0.8490 - val_background_precision: 0.8113 - val_interior_recall: 0.0027 - val_interior_precision: 0.0127 - val_boundary_recall: 0.4293 - val_boundary_precision: 0.1571\n",
      "Epoch 31/50\n"
     ]
    },
    {
     "name": "stdout",
     "output_type": "stream",
     "text": [
      "200/200 [==============================] - 68s 342ms/step - loss: 0.1353 - categorical_accuracy: 0.9376 - background_recall: 0.9576 - background_precision: 0.5183 - interior_recall: 0.8071 - interior_precision: 0.8715 - boundary_recall: 0.9554 - boundary_precision: 0.3479 - val_loss: 3.2068 - val_categorical_accuracy: 0.7221 - val_background_recall: 0.8754 - val_background_precision: 0.8271 - val_interior_recall: 0.0049 - val_interior_precision: 0.0132 - val_boundary_recall: 0.4402 - val_boundary_precision: 0.2216\n",
      "Epoch 32/50\n",
      "200/200 [==============================] - 68s 341ms/step - loss: 0.1357 - categorical_accuracy: 0.9415 - background_recall: 0.9561 - background_precision: 0.5026 - interior_recall: 0.8103 - interior_precision: 0.8872 - boundary_recall: 0.9556 - boundary_precision: 0.3621 - val_loss: 3.1099 - val_categorical_accuracy: 0.7238 - val_background_recall: 0.8762 - val_background_precision: 0.8248 - val_interior_recall: 0.0018 - val_interior_precision: 0.0054 - val_boundary_recall: 0.4438 - val_boundary_precision: 0.2122\n",
      "Epoch 33/50\n",
      "200/200 [==============================] - 68s 341ms/step - loss: 0.1265 - categorical_accuracy: 0.9374 - background_recall: 0.9578 - background_precision: 0.4928 - interior_recall: 0.8088 - interior_precision: 0.8464 - boundary_recall: 0.9561 - boundary_precision: 0.3426 - val_loss: 2.5831 - val_categorical_accuracy: 0.7330 - val_background_recall: 0.8860 - val_background_precision: 0.8229 - val_interior_recall: 0.0020 - val_interior_precision: 0.0097 - val_boundary_recall: 0.4794 - val_boundary_precision: 0.2184\n",
      "Epoch 34/50\n",
      "200/200 [==============================] - 68s 341ms/step - loss: 0.1281 - categorical_accuracy: 0.9448 - background_recall: 0.9580 - background_precision: 0.4940 - interior_recall: 0.8185 - interior_precision: 0.9141 - boundary_recall: 0.9585 - boundary_precision: 0.3604 - val_loss: 3.2174 - val_categorical_accuracy: 0.7440 - val_background_recall: 0.9059 - val_background_precision: 0.8225 - val_interior_recall: 0.0019 - val_interior_precision: 0.0066 - val_boundary_recall: 0.4164 - val_boundary_precision: 0.2424\n",
      "Epoch 35/50\n",
      "200/200 [==============================] - 68s 342ms/step - loss: 0.1205 - categorical_accuracy: 0.9414 - background_recall: 0.9616 - background_precision: 0.5028 - interior_recall: 0.8220 - interior_precision: 0.8624 - boundary_recall: 0.9578 - boundary_precision: 0.3548 - val_loss: 3.3586 - val_categorical_accuracy: 0.7420 - val_background_recall: 0.9020 - val_background_precision: 0.8214 - val_interior_recall: 0.0052 - val_interior_precision: 0.0161 - val_boundary_recall: 0.3754 - val_boundary_precision: 0.2458\n",
      "Epoch 36/50\n",
      "200/200 [==============================] - 68s 341ms/step - loss: 0.1203 - categorical_accuracy: 0.9443 - background_recall: 0.9590 - background_precision: 0.4859 - interior_recall: 0.8177 - interior_precision: 0.8608 - boundary_recall: 0.9590 - boundary_precision: 0.3740 - val_loss: 3.2801 - val_categorical_accuracy: 0.7353 - val_background_recall: 0.8940 - val_background_precision: 0.8228 - val_interior_recall: 0.0058 - val_interior_precision: 0.0157 - val_boundary_recall: 0.3930 - val_boundary_precision: 0.2496\n",
      "Epoch 37/50\n",
      "200/200 [==============================] - 68s 341ms/step - loss: 0.1272 - categorical_accuracy: 0.9394 - background_recall: 0.9587 - background_precision: 0.5042 - interior_recall: 0.8198 - interior_precision: 0.8577 - boundary_recall: 0.9594 - boundary_precision: 0.3685 - val_loss: 3.1044 - val_categorical_accuracy: 0.7395 - val_background_recall: 0.8954 - val_background_precision: 0.8228 - val_interior_recall: 0.0059 - val_interior_precision: 0.0216 - val_boundary_recall: 0.4544 - val_boundary_precision: 0.2363\n",
      "Epoch 38/50\n",
      "200/200 [==============================] - 68s 340ms/step - loss: 0.1135 - categorical_accuracy: 0.9359 - background_recall: 0.9626 - background_precision: 0.4882 - interior_recall: 0.8255 - interior_precision: 0.8256 - boundary_recall: 0.9613 - boundary_precision: 0.3434 - val_loss: 2.9862 - val_categorical_accuracy: 0.7185 - val_background_recall: 0.8676 - val_background_precision: 0.8242 - val_interior_recall: 0.0099 - val_interior_precision: 0.0232 - val_boundary_recall: 0.4714 - val_boundary_precision: 0.2334\n",
      "Epoch 39/50\n",
      "200/200 [==============================] - 68s 341ms/step - loss: 0.1182 - categorical_accuracy: 0.9363 - background_recall: 0.9603 - background_precision: 0.4948 - interior_recall: 0.8242 - interior_precision: 0.8174 - boundary_recall: 0.9607 - boundary_precision: 0.3543 - val_loss: 3.2054 - val_categorical_accuracy: 0.7568 - val_background_recall: 0.9240 - val_background_precision: 0.8171 - val_interior_recall: 5.6579e-04 - val_interior_precision: 0.0082 - val_boundary_recall: 0.3854 - val_boundary_precision: 0.2148\n",
      "Epoch 40/50\n",
      "200/200 [==============================] - 68s 341ms/step - loss: 0.1145 - categorical_accuracy: 0.9353 - background_recall: 0.9616 - background_precision: 0.4953 - interior_recall: 0.8296 - interior_precision: 0.8218 - boundary_recall: 0.9613 - boundary_precision: 0.3508 - val_loss: 3.0637 - val_categorical_accuracy: 0.6399 - val_background_recall: 0.7687 - val_background_precision: 0.8072 - val_interior_recall: 0.0035 - val_interior_precision: 0.0065 - val_boundary_recall: 0.5369 - val_boundary_precision: 0.1613\n",
      "Epoch 41/50\n",
      "200/200 [==============================] - 68s 341ms/step - loss: 0.1154 - categorical_accuracy: 0.9396 - background_recall: 0.9623 - background_precision: 0.5006 - interior_recall: 0.8346 - interior_precision: 0.8878 - boundary_recall: 0.9619 - boundary_precision: 0.3433 - val_loss: 3.5922 - val_categorical_accuracy: 0.7147 - val_background_recall: 0.8686 - val_background_precision: 0.8146 - val_interior_recall: 0.0059 - val_interior_precision: 0.0134 - val_boundary_recall: 0.3875 - val_boundary_precision: 0.2245\n",
      "Epoch 42/50\n",
      "200/200 [==============================] - 68s 341ms/step - loss: 0.1135 - categorical_accuracy: 0.9354 - background_recall: 0.9633 - background_precision: 0.5037 - interior_recall: 0.8299 - interior_precision: 0.8497 - boundary_recall: 0.9629 - boundary_precision: 0.3399 - val_loss: 3.0362 - val_categorical_accuracy: 0.7280 - val_background_recall: 0.8844 - val_background_precision: 0.8169 - val_interior_recall: 0.0034 - val_interior_precision: 0.0119 - val_boundary_recall: 0.4053 - val_boundary_precision: 0.2201\n",
      "Epoch 43/50\n",
      "200/200 [==============================] - 68s 342ms/step - loss: 0.1061 - categorical_accuracy: 0.9454 - background_recall: 0.9642 - background_precision: 0.4789 - interior_recall: 0.8383 - interior_precision: 0.8931 - boundary_recall: 0.9630 - boundary_precision: 0.3546 - val_loss: 2.9592 - val_categorical_accuracy: 0.7054 - val_background_recall: 0.8540 - val_background_precision: 0.8162 - val_interior_recall: 0.0041 - val_interior_precision: 0.0089 - val_boundary_recall: 0.4331 - val_boundary_precision: 0.2237\n",
      "Epoch 44/50\n",
      "200/200 [==============================] - 68s 340ms/step - loss: 0.1104 - categorical_accuracy: 0.9438 - background_recall: 0.9644 - background_precision: 0.5029 - interior_recall: 0.8394 - interior_precision: 0.8748 - boundary_recall: 0.9637 - boundary_precision: 0.3720 - val_loss: 3.2847 - val_categorical_accuracy: 0.6854 - val_background_recall: 0.8276 - val_background_precision: 0.8121 - val_interior_recall: 0.0045 - val_interior_precision: 0.0071 - val_boundary_recall: 0.4377 - val_boundary_precision: 0.2045\n",
      "Epoch 45/50\n",
      "200/200 [==============================] - 68s 341ms/step - loss: 0.1048 - categorical_accuracy: 0.9408 - background_recall: 0.9635 - background_precision: 0.4799 - interior_recall: 0.8362 - interior_precision: 0.8516 - boundary_recall: 0.9636 - boundary_precision: 0.3634 - val_loss: 3.3297 - val_categorical_accuracy: 0.6431 - val_background_recall: 0.7716 - val_background_precision: 0.8105 - val_interior_recall: 0.0052 - val_interior_precision: 0.0063 - val_boundary_recall: 0.5005 - val_boundary_precision: 0.2039\n",
      "Epoch 46/50\n"
     ]
    },
    {
     "name": "stdout",
     "output_type": "stream",
     "text": [
      "200/200 [==============================] - 68s 341ms/step - loss: 0.1017 - categorical_accuracy: 0.9372 - background_recall: 0.9668 - background_precision: 0.5032 - interior_recall: 0.8483 - interior_precision: 0.8515 - boundary_recall: 0.9651 - boundary_precision: 0.3439 - val_loss: 3.2046 - val_categorical_accuracy: 0.7165 - val_background_recall: 0.8687 - val_background_precision: 0.8238 - val_interior_recall: 0.0067 - val_interior_precision: 0.0125 - val_boundary_recall: 0.4477 - val_boundary_precision: 0.2317\n",
      "Epoch 47/50\n",
      "200/200 [==============================] - 68s 341ms/step - loss: 0.1079 - categorical_accuracy: 0.9355 - background_recall: 0.9652 - background_precision: 0.5078 - interior_recall: 0.8473 - interior_precision: 0.8777 - boundary_recall: 0.9657 - boundary_precision: 0.3379 - val_loss: 3.1591 - val_categorical_accuracy: 0.7076 - val_background_recall: 0.8578 - val_background_precision: 0.8188 - val_interior_recall: 0.0060 - val_interior_precision: 0.0121 - val_boundary_recall: 0.4179 - val_boundary_precision: 0.2401\n",
      "Epoch 48/50\n",
      "200/200 [==============================] - 68s 342ms/step - loss: 0.1032 - categorical_accuracy: 0.9418 - background_recall: 0.9673 - background_precision: 0.5161 - interior_recall: 0.8494 - interior_precision: 0.8516 - boundary_recall: 0.9658 - boundary_precision: 0.3697 - val_loss: 3.1427 - val_categorical_accuracy: 0.6827 - val_background_recall: 0.8212 - val_background_precision: 0.8185 - val_interior_recall: 0.0054 - val_interior_precision: 0.0115 - val_boundary_recall: 0.5307 - val_boundary_precision: 0.2007\n",
      "Epoch 49/50\n",
      "200/200 [==============================] - 68s 341ms/step - loss: 0.1003 - categorical_accuracy: 0.9373 - background_recall: 0.9661 - background_precision: 0.4904 - interior_recall: 0.8479 - interior_precision: 0.8563 - boundary_recall: 0.9662 - boundary_precision: 0.3439 - val_loss: 3.3474 - val_categorical_accuracy: 0.7145 - val_background_recall: 0.8711 - val_background_precision: 0.8211 - val_interior_recall: 0.0057 - val_interior_precision: 0.0123 - val_boundary_recall: 0.3927 - val_boundary_precision: 0.2147\n",
      "Epoch 50/50\n",
      "200/200 [==============================] - 68s 341ms/step - loss: 0.0988 - categorical_accuracy: 0.9360 - background_recall: 0.9671 - background_precision: 0.4913 - interior_recall: 0.8511 - interior_precision: 0.8736 - boundary_recall: 0.9663 - boundary_precision: 0.3243 - val_loss: 3.4382 - val_categorical_accuracy: 0.7330 - val_background_recall: 0.8924 - val_background_precision: 0.8192 - val_interior_recall: 0.0092 - val_interior_precision: 0.0286 - val_boundary_recall: 0.3809 - val_boundary_precision: 0.2201\n",
      "Done! :)\n"
     ]
    }
   ],
   "source": [
    "# TRAIN\n",
    "statistics = model.fit_generator(\n",
    "    generator=train_gen,\n",
    "    steps_per_epoch=config_vars[\"steps_per_epoch\"],\n",
    "    epochs=config_vars[\"epochs\"],\n",
    "    validation_data=val_gen,\n",
    "    validation_steps=int(len(data_partitions[\"validation\"])/config_vars[\"val_batch_size\"]),\n",
    "    callbacks=callbacks,\n",
    "    verbose = 1\n",
    ")\n",
    "\n",
    "model.save_weights(config_vars[\"model_file\"])\n",
    "\n",
    "print('Done! :)')"
   ]
  },
  {
   "cell_type": "code",
   "execution_count": null,
   "metadata": {},
   "outputs": [],
   "source": []
  }
 ],
 "metadata": {
  "kernelspec": {
   "display_name": "Python 3",
   "language": "python",
   "name": "python3"
  },
  "language_info": {
   "codemirror_mode": {
    "name": "ipython",
    "version": 3
   },
   "file_extension": ".py",
   "mimetype": "text/x-python",
   "name": "python",
   "nbconvert_exporter": "python",
   "pygments_lexer": "ipython3",
   "version": "3.6.4"
  }
 },
 "nbformat": 4,
 "nbformat_minor": 2
}
