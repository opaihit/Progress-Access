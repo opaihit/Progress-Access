{
 "cells": [
  {
   "cell_type": "code",
   "execution_count": 2,
   "metadata": {},
   "outputs": [],
   "source": [
    "import json\n",
    "import os.path\n",
    "import shutil\n",
    "\n",
    "import requests\n",
    "import tqdm"
   ]
  },
  {
   "cell_type": "code",
   "execution_count": 3,
   "metadata": {},
   "outputs": [
    {
     "ename": "NameError",
     "evalue": "name 'pickle' is not defined",
     "output_type": "error",
     "traceback": [
      "\u001b[0;31m---------------------------------------------------------------------------\u001b[0m",
      "\u001b[0;31mNameError\u001b[0m                                 Traceback (most recent call last)",
      "\u001b[0;32m<ipython-input-3-160b2840d528>\u001b[0m in \u001b[0;36m<module>\u001b[0;34m()\u001b[0m\n\u001b[1;32m      1\u001b[0m \u001b[0;32mwith\u001b[0m \u001b[0mopen\u001b[0m\u001b[0;34m(\u001b[0m\u001b[0;34m\"team-submissions.pickle\"\u001b[0m\u001b[0;34m,\u001b[0m \u001b[0;34m\"rb\"\u001b[0m\u001b[0;34m)\u001b[0m \u001b[0;32mas\u001b[0m \u001b[0mstream\u001b[0m\u001b[0;34m:\u001b[0m\u001b[0;34m\u001b[0m\u001b[0m\n\u001b[0;32m----> 2\u001b[0;31m     \u001b[0mteams\u001b[0m \u001b[0;34m=\u001b[0m \u001b[0mpickle\u001b[0m\u001b[0;34m.\u001b[0m\u001b[0mload\u001b[0m\u001b[0;34m(\u001b[0m\u001b[0mstream\u001b[0m\u001b[0;34m)\u001b[0m\u001b[0;34m\u001b[0m\u001b[0m\n\u001b[0m",
      "\u001b[0;31mNameError\u001b[0m: name 'pickle' is not defined"
     ]
    }
   ],
   "source": [
    "with open(\"team-submissions.pickle\", \"rb\") as stream:\n",
    "    teams = pickle.load(stream)"
   ]
  },
  {
   "cell_type": "code",
   "execution_count": 71,
   "metadata": {},
   "outputs": [],
   "source": []
  },
  {
   "cell_type": "code",
   "execution_count": 123,
   "metadata": {},
   "outputs": [
    {
     "data": {
      "text/plain": [
       "'/submissions/7193229/7193229.zip'"
      ]
     },
     "execution_count": 123,
     "metadata": {},
     "output_type": "execute_result"
    }
   ],
   "source": [
    "teams[0][\"submissions\"][0][\"url\"]"
   ]
  },
  {
   "cell_type": "code",
   "execution_count": 99,
   "metadata": {},
   "outputs": [],
   "source": [
    "endpoint = \"https://www.kaggle.com{}\".format(teams[0][\"submissions\"][0][\"url\"])"
   ]
  },
  {
   "cell_type": "code",
   "execution_count": 100,
   "metadata": {},
   "outputs": [],
   "source": [
    "response = requests.get(endpoint, headers=headers)"
   ]
  },
  {
   "cell_type": "code",
   "execution_count": 101,
   "metadata": {},
   "outputs": [
    {
     "data": {
      "text/plain": [
       "<Response [200]>"
      ]
     },
     "execution_count": 101,
     "metadata": {},
     "output_type": "execute_result"
    }
   ],
   "source": [
    "response"
   ]
  },
  {
   "cell_type": "code",
   "execution_count": 124,
   "metadata": {},
   "outputs": [],
   "source": [
    "def download(resource, headers={}):    \n",
    "    pathname = os.path.join(\"/storage/data/DSB2018/submissions\", resource.split(\"/\")[-1])\n",
    "\n",
    "    if not os.path.exists(pathname):\n",
    "        with requests.get(resource, headers=headers, stream=True) as response:\n",
    "            with open(pathname, \"wb\") as stream:\n",
    "                shutil.copyfileobj(response.raw, stream)\n",
    "\n",
    "    return pathname"
   ]
  },
  {
   "cell_type": "code",
   "execution_count": 125,
   "metadata": {},
   "outputs": [
    {
     "name": "stderr",
     "output_type": "stream",
     "text": [
      "100%|██████████| 163/163 [01:46<00:00,  1.54it/s]\n"
     ]
    }
   ],
   "source": [
    "for submission in tqdm.tqdm(teams[0][\"submissions\"]):\n",
    "    resource = \"https://www.kaggle.com{}\".format(submission[\"url\"])\n",
    "    \n",
    "    pathname = download(resource, headers=headers)"
   ]
  },
  {
   "cell_type": "code",
   "execution_count": 116,
   "metadata": {},
   "outputs": [
    {
     "data": {
      "text/plain": [
       "'https://www.kaggle.com/submissions/6865476/6865476.zip'"
      ]
     },
     "execution_count": 116,
     "metadata": {},
     "output_type": "execute_result"
    }
   ],
   "source": [
    "endpoint"
   ]
  },
  {
   "cell_type": "code",
   "execution_count": null,
   "metadata": {},
   "outputs": [],
   "source": [
    "import json\n",
    "import os.path\n",
    "import shutil\n",
    "\n",
    "import requests\n",
    "import tqdm\n",
    "\n",
    "headers = {\n",
    "    \"__RequestVerificationToken\": \"B2dbpMcDzRJf29dzsQZO_dzjfStLg_bHDUxQILFgpWBvRbhDIirpil-1KyCWhScvo5erwLb-VIR0KORg3mMxcl4i7Fk1\",\n",
    "    \"Accept\": \"application/json\", \n",
    "    \"Accept-Encoding\": \"br, gzip, deflate\", \n",
    "    \"Accept-Language\": \"en-us\", \n",
    "    \"Connection\": \"keep-alive\", \n",
    "    \"Content-Type\": \"application/json\", \n",
    "    \"Cookie\": \"_ga=GA1.2.1910633702.1527101007; _gid=GA1.2.871612136.1527101007; intercom-lou-koj6gxx6=1; intercom-session-koj6gxx6=eWt3dmRZbi9RNm4ydWNuTDNYcW4vLy9pQkdIV1FQTmk5bTZxRVAvNzNCOXpVZHp5a1BjRHdSYzZ6SnJSbzQvVi0tZkw5NStlQ1dQdXhvUFdjZERLbm1DUT09--60237e8067058c5ac212d74694f4ee235b085d8a; ai_session=he8R+|1527101007411|1527102347219; .ASPXAUTH=FE609CF6940B0779D6F440AA0722C410765EDDC4067C07F2EE9190394BF270EC118D57B9CF7E60197E454A5766137093FBB2EE986700998972D52151C056C9038873A8E79BE5DE791381EFCBDAE23FF5EAD9C081; intercom-id-koj6gxx6=6d076101-644c-4bac-a3fa-c40bee72e10b; ka_sessionid=e24726f7bbbde2b906451bedc6801763eb909e39; ai_user=RWt4l|2018-05-23T14:38:22.528Z; ARRAffinity=b07887e32b4005f086f79c24964bb3a226fc1c1919f52825961efddcaba2c27e; __RequestVerificationToken=aanYSoPw-N8JphPIYwRBlRRHz5LHMQIXM9gdfSGGubJH42AT2s_awegsZNI_JjRnNaLfkftoPuIdDGUVKZDnlQ0hamM1\", \n",
    "    \"Host\": \"www.kaggle.com\", \n",
    "    \"Referer\": \"https://www.kaggle.com/c/data-science-bowl-2018/host\", \n",
    "    \"User-Agent\": \"Mozilla/5.0 (Macintosh; Intel Mac OS X 10_13_3) AppleWebKit/604.5.6 (KHTML, like Gecko) Version/11.0.3 Safari/604.5.6\"\n",
    "}\n",
    "\n",
    "def download(resource, headers={}):    \n",
    "    pathname = os.path.join(\"/storage/data/DSB2018/submissions\", resource.split(\"/\")[-1])\n",
    "\n",
    "    if not os.path.exists(pathname):\n",
    "        with requests.get(resource, headers=headers, stream=True) as response:\n",
    "            with open(pathname, \"wb\") as stream:\n",
    "                shutil.copyfileobj(response.raw, stream)\n",
    "\n",
    "    return pathname\n",
    "\n",
    "for team in tqdm.tqdm(teams):\n",
    "    for submission in team[\"submissions\"]:\n",
    "        resource = \"https://www.kaggle.com{}\".format(submission[\"url\"])\n",
    "\n",
    "        pathname = download(resource, headers=headers)\n",
    "        \n",
    "        print(pathname)"
   ]
  }
 ],
 "metadata": {
  "kernelspec": {
   "display_name": "Python 3",
   "language": "python",
   "name": "python3"
  },
  "language_info": {
   "codemirror_mode": {
    "name": "ipython",
    "version": 3
   },
   "file_extension": ".py",
   "mimetype": "text/x-python",
   "name": "python",
   "nbconvert_exporter": "python",
   "pygments_lexer": "ipython3",
   "version": "3.6.4"
  }
 },
 "nbformat": 4,
 "nbformat_minor": 2
}
